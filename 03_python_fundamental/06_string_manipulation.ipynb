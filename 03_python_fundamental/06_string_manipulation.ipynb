{
 "cells": [
  {
   "cell_type": "markdown",
   "metadata": {},
   "source": [
    "### **Dealing with String**\n",
    "When working on data scraping tasks, string manipulation is crucial for cleaning and processing the extracted data."
   ]
  },
  {
   "cell_type": "code",
   "execution_count": 1,
   "metadata": {},
   "outputs": [
    {
     "name": "stdout",
     "output_type": "stream",
     "text": [
      "status code for https://www.python.org/page-3 is 200\n"
     ]
    }
   ],
   "source": [
    "\"\"\"\n",
    "Objective: f-string printing\n",
    "\"\"\"\n",
    "current_page = \"https://www.python.org/page-3\"\n",
    "page_status_code = 200\n",
    "\n",
    "# TODO: Use f-string to print the current page and page status code\n",
    "# Expected output:\n",
    "# Current page: https://www.python.org/page-3\n",
    "# Page status code: 200\n",
    "print(f\"status code for {current_page} is {page_status_code}\")"
   ]
  },
  {
   "cell_type": "code",
   "execution_count": 8,
   "metadata": {},
   "outputs": [
    {
     "name": "stdout",
     "output_type": "stream",
     "text": [
      "30\n"
     ]
    }
   ],
   "source": [
    "\"\"\"\n",
    "Objective: Extract text from URL using .split()\n",
    "\"\"\"\n",
    "current_page = \"https://www.python.org/page-30\"\n",
    "\n",
    "# TODO: Extract the page number from the current_page\n",
    "# Expected output: \"30\"\n",
    "page_number = current_page.split(\"-\")[-1]\n",
    "print(page_number)"
   ]
  },
  {
   "cell_type": "code",
   "execution_count": 17,
   "metadata": {},
   "outputs": [
    {
     "name": "stdout",
     "output_type": "stream",
     "text": [
      "30\n"
     ]
    }
   ],
   "source": [
    "\"\"\"\n",
    "Objective: Extract number from URL using isdigit()\n",
    "\"\"\"\n",
    "texts = \"This page has 30 results\"\n",
    "\n",
    "# TODO: Split the texts into list of words\n",
    "# TODO: Check if word is a number\n",
    "# TODO: Print the word\n",
    "# Expected output: \"30\"\n",
    "words = texts.split()\n",
    "for word in words:\n",
    "    if word.isdigit():\n",
    "        print(word)"
   ]
  },
  {
   "cell_type": "code",
   "execution_count": 15,
   "metadata": {},
   "outputs": [
    {
     "name": "stdout",
     "output_type": "stream",
     "text": [
      "Welcome to Python!\n"
     ]
    }
   ],
   "source": [
    "\"\"\"\n",
    "Objective: Clean Unwanted Characters using .strip()\n",
    "\"\"\"\n",
    "raw_data = \"  \\n\\t###Welcome to Python!###\\t\\n  \"\n",
    "\n",
    "# TODO: Remove the unwanted characters from raw_data\n",
    "# Expected output: \"Welcome to Python!\"\n",
    "x = raw_data.strip(\"\\n\\t, ###\")\n",
    "print(x)"
   ]
  },
  {
   "cell_type": "code",
   "execution_count": 16,
   "metadata": {},
   "outputs": [
    {
     "name": "stdout",
     "output_type": "stream",
     "text": [
      "More content is available\n"
     ]
    }
   ],
   "source": [
    "\"\"\"\n",
    "Objective: Check if Content is Exist\n",
    "\"\"\"\n",
    "button_text = \"Load More\"\n",
    "\n",
    "# TODO: Check if \"Load More\" is in button_text\n",
    "# TODO: Print \"More content is available\" if true\n",
    "# TODO: Print \"No more content\" if false\n",
    "# Expected output: \"More content is available\"\n",
    "if \"Load More\" in button_text:\n",
    "    print(\"More content is available\")\n",
    "else:\n",
    "    print(\"No more content\")"
   ]
  },
  {
   "cell_type": "code",
   "execution_count": 19,
   "metadata": {},
   "outputs": [
    {
     "name": "stdout",
     "output_type": "stream",
     "text": [
      "More content is available\n"
     ]
    }
   ],
   "source": [
    "\"\"\"\n",
    "Objective: Check if Content is Exist using .find()\n",
    "\"\"\"\n",
    "button_text = \"Load More\"\n",
    "\n",
    "# TODO: Check if \"Load More\" is in button_text\n",
    "# TODO: Print \"More content is available\" if true\n",
    "# TODO: Print \"No more content\" if false\n",
    "# Expected output: \"More content is available\"\n",
    "\n",
    "if button_text.find(\"Load More\") != -1:\n",
    "    print(\"More content is available\")\n",
    "else:\n",
    "    print(\"No more content\")"
   ]
  },
  {
   "cell_type": "code",
   "execution_count": 20,
   "metadata": {},
   "outputs": [
    {
     "name": "stdout",
     "output_type": "stream",
     "text": [
      "['Python,', 'BeautifulSoup,', 'Scrapy,', 'Selenium,', 'Web', 'Scraping']\n"
     ]
    }
   ],
   "source": [
    "\"\"\"\n",
    "Objective: Split Data into a List\n",
    "\"\"\"\n",
    "keywords = \"Python, BeautifulSoup, Scrapy, Selenium, Web Scraping\"\n",
    "\n",
    "# TODO: Split keywords into a list\n",
    "# Expected output: [\"Python\", \"BeautifulSoup\", \"Scrapy\", \"Selenium\", \"Web Scraping\"]\n",
    "words = keywords.split()\n",
    "print(words)"
   ]
  },
  {
   "cell_type": "code",
   "execution_count": 21,
   "metadata": {},
   "outputs": [
    {
     "name": "stdout",
     "output_type": "stream",
     "text": [
      "Python, BeautifulSoup, Scrapy, Selenium, Web Scraping\n"
     ]
    }
   ],
   "source": [
    "\"\"\"\n",
    "Objective: Joining list to string\n",
    "\"\"\"\n",
    "keywords = [\"Python\", \"BeautifulSoup\", \"Scrapy\", \"Selenium\", \"Web Scraping\"]\n",
    "\n",
    "# TODO: Join keywords into a string with \", \"\n",
    "# Expected output: \"Python, BeautifulSoup, Scrapy, Selenium, Web Scraping\"\n",
    "words = \", \".join(keywords)\n",
    "print(words)\n"
   ]
  },
  {
   "cell_type": "code",
   "execution_count": 27,
   "metadata": {},
   "outputs": [
    {
     "name": "stdout",
     "output_type": "stream",
     "text": [
      "https://www.example.com\n"
     ]
    }
   ],
   "source": [
    "\"\"\"\n",
    "Objective: Extract URL from text\n",
    "\"\"\"\n",
    "text = \"For more information visit https://www.example.com\"\n",
    "\n",
    "# TODO: Split the text into list of words\n",
    "# TODO: Check if word starts with \"https://\"\n",
    "# TODO: Print the word\n",
    "# Expected output: \"https://www.example.com\"\n",
    "# split the text into list of words\n",
    "words = text.split()\n",
    "\n",
    "# Check if any word starts with \"https://\"\n",
    "for word in words:\n",
    "    if word.startswith(\"https://\"):\n",
    "        print(word)"
   ]
  },
  {
   "cell_type": "code",
   "execution_count": 28,
   "metadata": {},
   "outputs": [
    {
     "name": "stdout",
     "output_type": "stream",
     "text": [
      "support@example.com\n"
     ]
    }
   ],
   "source": [
    "\"\"\"\n",
    "Objective: Extract email from text\n",
    "\"\"\"\n",
    "text = \"For more info, contact us at support@example.com or visit our website.\"\n",
    "\n",
    "# TODO: Split the text into list of words\n",
    "# TODO: Find the word that ends with \".com\"\n",
    "# Expected output: \"support@example.com\"\n",
    "\n",
    "# Split the text into list of words\n",
    "words = text.split()\n",
    "\n",
    "# Find the word that ends with \".com\"\n",
    "for word in words:\n",
    "    if word.endswith(\".com\"):\n",
    "        print(word)"
   ]
  },
  {
   "cell_type": "code",
   "execution_count": 30,
   "metadata": {},
   "outputs": [
    {
     "name": "stdout",
     "output_type": "stream",
     "text": [
      "https://www.example.com/news-and-articles\n"
     ]
    }
   ],
   "source": [
    "\"\"\"\n",
    "Objective: Generate Slug for URLs using .replace()\n",
    "\"\"\"\n",
    "base_url = \"https://www.example.com\"\n",
    "section = \"News and Articles\"\n",
    "\n",
    "# TODO: Format section from \"News and Articles\" to \"news-and-articles\"\n",
    "# TODO: Combine base_url and section\n",
    "# TODO: Print the complete URL\n",
    "# Expected output: \"https://www.example.com/news-and-articles\"\n",
    "\n",
    "# Format section to create a slug: convert to lowercase and replace spaces with hyphens\n",
    "x = section.lower().replace(\" \", \"-\")\n",
    "\n",
    "# Combine the base_url and the slug to form the complete URL\n",
    "complete_url = f\"{base_url}/{x}\"\n",
    "\n",
    "print(complete_url)"
   ]
  },
  {
   "cell_type": "code",
   "execution_count": 31,
   "metadata": {},
   "outputs": [
    {
     "name": "stdout",
     "output_type": "stream",
     "text": [
      "hello,-world!-how,-are-you-today?\n"
     ]
    }
   ],
   "source": [
    "\"\"\" \n",
    "Objective: String manipulation\n",
    "\"\"\"\n",
    "message = \"   Hello, world! How, are you today? \"\n",
    "\n",
    "# TODO: Remove the leading and trailing spaces\n",
    "# TODO: Replace the spaces with \"-\"\n",
    "# Expected output: \"hello-world!-how;-are-you-today?\"\n",
    "\n",
    "# Remove the leading and trailing spaces\n",
    "message = message.strip()\n",
    "\n",
    "# Replace the spaces with \"-\"\n",
    "message = message.replace(\" \", \"-\")\n",
    "\n",
    "# convert the message to lowercase\n",
    "message = message.lower()\n",
    "\n",
    "print(message)"
   ]
  },
  {
   "cell_type": "markdown",
   "metadata": {},
   "source": [
    "### **Reflection**\n",
    "What is the difference between using .find() and \"in\" to check if an element is exist in the text ?\n",
    "\n",
    "The in operator checks if a substring is present in a string and returns a boolean value. The find() method returns the index of the first occurrence of the substring in the string, or -1 if the substring is not found."
   ]
  },
  {
   "cell_type": "markdown",
   "metadata": {},
   "source": [
    "### **Exploration**\n",
    "Regular expressions are an advanced way to extract data using specific patterns and rules. While we will discuss regex in the intermediate level, it’s worth starting to learn it now."
   ]
  },
  {
   "cell_type": "markdown",
   "metadata": {},
   "source": []
  }
 ],
 "metadata": {
  "kernelspec": {
   "display_name": "Python 3",
   "language": "python",
   "name": "python3"
  },
  "language_info": {
   "codemirror_mode": {
    "name": "ipython",
    "version": 3
   },
   "file_extension": ".py",
   "mimetype": "text/x-python",
   "name": "python",
   "nbconvert_exporter": "python",
   "pygments_lexer": "ipython3",
   "version": "3.13.2"
  }
 },
 "nbformat": 4,
 "nbformat_minor": 2
}
