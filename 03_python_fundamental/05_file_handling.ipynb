{
 "cells": [
  {
   "cell_type": "markdown",
   "metadata": {},
   "source": [
    "### **File Handling**\n",
    "File handling in Python allows you to read, write, and manipulate files on disk. Using built-in functions like open(), along with context managers (i.e., the with-statement), you can ensure that files are properly managed and closed after operations, reducing the risk of resource leaks. The os module provides a portable way of using operating system-dependent functionality such as interacting with the file system. With os, you can navigate directories, create or delete files and directories, and perform path manipulations. Mastering these concepts is essential for automating file-based tasks and managing system resources effectively."
   ]
  },
  {
   "cell_type": "code",
   "execution_count": 11,
   "metadata": {},
   "outputs": [
    {
     "name": "stdout",
     "output_type": "stream",
     "text": [
      "File content : \n",
      "Hello world\n"
     ]
    }
   ],
   "source": [
    "\"\"\"\n",
    "Objective: Open a file for reading and handle the error if the file does not exist.\n",
    "\"\"\"\n",
    "filename = \"handling_sample.txt\"\n",
    "\n",
    "try:\n",
    "    with open(filename, \"r\") as file:\n",
    "        print(\"File content : \")\n",
    "        for line in file:\n",
    "            print(line.strip()) # Strip to remove extra newline characters\n",
    "except FileNotFoundError:\n",
    "    print(f\"Error: The file '{filename}' was not found.\")\n",
    "\n",
    "# TODO: Modify the code to read the file line by line and print each line.\n"
   ]
  },
  {
   "cell_type": "code",
   "execution_count": 13,
   "metadata": {},
   "outputs": [
    {
     "name": "stdout",
     "output_type": "stream",
     "text": [
      "Text successfully written to 'output.txt'.\n",
      "File closed successfully.\n",
      "New line appended succesfully to output.txt.\n"
     ]
    }
   ],
   "source": [
    "\"\"\"\n",
    "Objective: Open a file for writing, write some sample text, and handle any potential errors.\n",
    "\"\"\"\n",
    "filename = \"output.txt\"\n",
    "text = \"This is a sample text written to the file.\\nIt has multiple lines.\"\n",
    "\n",
    "try:\n",
    "    file = open(filename, \"w\")\n",
    "    file.write(text)\n",
    "    print(f\"Text successfully written to '{filename}'.\")\n",
    "except Exception as e:\n",
    "    print(\"An error occurred while writing to the file:\", e)\n",
    "finally:\n",
    "    try:\n",
    "        file.close()\n",
    "        print(\"File closed successfully.\")\n",
    "    except NameError:\n",
    "        print(\"File was never opened.\")\n",
    "\n",
    "# TODO: Append a new line to the file instead of overwriting it.\n",
    "try :\n",
    "    with open(filename, \"a\") as file:\n",
    "        file.write(\"\\nAppending a new line to the file\")\n",
    "        print(f\"New line appended succesfully to {filename}.\")\n",
    "except Exception as e:\n",
    "    print(\"An error occured while writing to the file : \")\n"
   ]
  },
  {
   "cell_type": "code",
   "execution_count": 15,
   "metadata": {},
   "outputs": [
    {
     "name": "stdout",
     "output_type": "stream",
     "text": [
      "File content using with-statement:\n",
      "\n",
      "Data successfully written to output1.txt.\n"
     ]
    }
   ],
   "source": [
    "\"\"\"\n",
    "Objective: Use the with-statement to handle file reading, ensuring the file is automatically closed.\n",
    "\"\"\"\n",
    "filename = \"handling_sample1.txt\"\n",
    "\n",
    "try:\n",
    "    with open(filename, \"r\") as file:\n",
    "        content = file.read()\n",
    "        print(\"File content using with-statement:\")\n",
    "        print(content)\n",
    "except FileNotFoundError:\n",
    "    print(f\"Error: The file '{filename}' does not exist.\")\n",
    "\n",
    "# TODO: Write a block using the with-statement to write data to a new file.\n",
    "new_filename = \"output1.txt\"\n",
    "data_to_write = \"This is a sample text written using the with-statement\"\n",
    "\n",
    "try:\n",
    "    with open(new_filename, 'w') as f:\n",
    "        f.write(data_to_write)\n",
    "    print(f\"Data successfully written to {new_filename}.\")\n",
    "except Exception as e:\n",
    "    print(f\"Error writing to file : {e}\")\n"
   ]
  },
  {
   "cell_type": "code",
   "execution_count": 17,
   "metadata": {},
   "outputs": [
    {
     "name": "stdout",
     "output_type": "stream",
     "text": [
      "Line: hello world!\n",
      "Line: hello world!\n",
      "Line: hello world!\n",
      "Line: hello world!\n",
      "Line: hello world!\n",
      "Line: hello world!\n",
      "Line: hello world!\n",
      "Line: hello world!\n",
      "Line: hello world!\n",
      "Line: hello world!\n",
      "Total number of lines : 10\n"
     ]
    }
   ],
   "source": [
    "\"\"\"\n",
    "Objective: Read a file line by line using a for-loop and print each line.\n",
    "\"\"\"\n",
    "filename = \"sample2.txt\"\n",
    "\n",
    "try:\n",
    "    with open(filename, \"r\") as file:\n",
    "        line_count = 0\n",
    "        for line in file:\n",
    "            print(\"Line:\", line.strip())\n",
    "            line_count += 1\n",
    "        print(f\"Total number of lines : {line_count}\")\n",
    "except FileNotFoundError:\n",
    "    print(f\"Error: The file '{filename}' was not found.\")\n",
    "\n",
    "# TODO: Count the number of lines in the file and print the count.\n",
    "\n"
   ]
  },
  {
   "cell_type": "code",
   "execution_count": 18,
   "metadata": {},
   "outputs": [
    {
     "name": "stdout",
     "output_type": "stream",
     "text": [
      "Additional text appended to 'output2.txt'.\n",
      "\n",
      "Updated file content : \n",
      "\n",
      "This is an additional line appended to the file.\n"
     ]
    }
   ],
   "source": [
    "\"\"\"\n",
    "Objective: Open a file in append mode to add new content without overwriting existing data.\n",
    "\"\"\"\n",
    "filename = \"output2.txt\"\n",
    "additional_text = \"\\nThis is an additional line appended to the file.\"\n",
    "\n",
    "try:\n",
    "    # Append new content\n",
    "    with open(filename, \"a\") as file:\n",
    "        file.write(additional_text)\n",
    "        print(f\"Additional text appended to '{filename}'.\")\n",
    "        \n",
    "    # Read and print the entire file content\n",
    "    with open(filename, \"r\") as file:\n",
    "        content = file.read()\n",
    "        print(\"\\nUpdated file content : \")\n",
    "        print(content)\n",
    "except Exception as e:\n",
    "    print(\"An error occurred : \", e)\n",
    "\n",
    "# TODO: After appending, read the file back and print its entire content.\n"
   ]
  },
  {
   "cell_type": "code",
   "execution_count": 19,
   "metadata": {},
   "outputs": [
    {
     "name": "stdout",
     "output_type": "stream",
     "text": [
      "Current Working Directory: c:\\Users\\SAGA10\\Documents\\RWID\\Python Scrapping\\Scrapping_tasks\\Scrapping\\03_python_fundamental\n",
      "Contents of the directory:\n",
      "01_variables_and_data_types.ipynb\n",
      "02_looping_and_control_structures.ipynb\n",
      "03_functions_and_modules.ipynb\n",
      "04_error_handling.ipynb\n",
      "05_file_handling.ipynb\n",
      "06_string_manipulation.ipynb\n",
      "07_list_vs_dictionary.ipynb\n",
      "calculator_app.py\n",
      "handling_sample.txt\n",
      "handling_sample1.txt\n",
      "mymodule.py\n",
      "output.txt\n",
      "output1.txt\n",
      "output2.txt\n",
      "readme.md\n",
      "sample2.txt\n",
      "__pycache__\n",
      "\n",
      "Full path for example.txt  c:\\Users\\SAGA10\\Documents\\RWID\\Python Scrapping\\Scrapping_tasks\\Scrapping\\03_python_fundamental\\example.txt\n"
     ]
    }
   ],
   "source": [
    "\"\"\"\n",
    "Objective: Use the os module to get the current working directory and list the contents of that directory.\n",
    "\"\"\"\n",
    "import os\n",
    "\n",
    "try:\n",
    "    # Get current working directory\n",
    "    current_dir = os.getcwd()\n",
    "    print(\"Current Working Directory:\", current_dir)\n",
    "    \n",
    "    # List directory contents\n",
    "    directory_contents = os.listdir(current_dir)\n",
    "    print(\"Contents of the directory:\")\n",
    "    for item in directory_contents:\n",
    "        print(item)\n",
    "        \n",
    "    # Create full path for 'example.txt'\n",
    "    file_path = os.path.join(current_dir, \"example.txt\")\n",
    "    print(\"\\nFull path for example.txt \", file_path)\n",
    "except Exception as e:\n",
    "    print(\"An error occurred while accessing directory information:\", e)\n",
    "\n",
    "# TODO: Use os.path.join to create a full path for a file named 'example.txt' in the current directory and print it.\n"
   ]
  },
  {
   "cell_type": "code",
   "execution_count": 20,
   "metadata": {},
   "outputs": [
    {
     "name": "stdout",
     "output_type": "stream",
     "text": [
      "Directory 'test_dir' created.\n",
      "Directory renamed to 'renamed_dir'.\n",
      "Directory 'renamed_dir' deleted.\n"
     ]
    }
   ],
   "source": [
    "\"\"\"\n",
    "Objective: Create a new directory, rename it, and then delete it, using the os module and handling exceptions.\n",
    "\"\"\"\n",
    "import os\n",
    "\n",
    "dir_name = \"test_dir\"\n",
    "new_dir_name = \"renamed_dir\"\n",
    "\n",
    "try:\n",
    "    # Create a new directory\n",
    "    if not os.path.exists(dir_name):\n",
    "        os.mkdir(dir_name)\n",
    "        print(f\"Directory '{dir_name}' created.\")\n",
    "    \n",
    "    # Rename the directory\n",
    "    if os.path.exists(dir_name):\n",
    "        os.rename(dir_name, new_dir_name)\n",
    "        print(f\"Directory renamed to '{new_dir_name}'.\")\n",
    "    else:\n",
    "        print(f\"Cannot rename {dir_name} because it does not exist.\")\n",
    "    \n",
    "    # Delete the renamed directory\n",
    "    if os.path.exists(new_dir_name):\n",
    "        os.rmdir(new_dir_name)\n",
    "        print(f\"Directory '{new_dir_name}' deleted.\")\n",
    "except Exception as e:\n",
    "    print(\"An error occurred during directory operations:\", e)\n",
    "\n",
    "# TODO: Check if a directory exists before creating it, using os.path.exists.\n"
   ]
  },
  {
   "cell_type": "code",
   "execution_count": 22,
   "metadata": {},
   "outputs": [
    {
     "name": "stdout",
     "output_type": "stream",
     "text": [
      "Full path to the file: c:\\Users\\SAGA10\\Documents\\RWID\\Python Scrapping\\Scrapping_tasks\\Scrapping\\03_python_fundamental\\output.txt\n",
      "The file 'output.txt' exists.\n",
      "\n",
      "File name (without extension) : output\n",
      "File extension : .txt\n"
     ]
    }
   ],
   "source": [
    "\"\"\"\n",
    "Objective: Use os.path to perform common file path operations such as joining paths and checking file existence.\n",
    "\"\"\"\n",
    "import os\n",
    "\n",
    "# Join directory and filename to create a full file path\n",
    "directory = os.getcwd()\n",
    "file_name = \"output.txt\"\n",
    "full_path = os.path.join(directory, file_name)\n",
    "print(\"Full path to the file:\", full_path)\n",
    "\n",
    "# Check if the file exists\n",
    "if os.path.exists(full_path):\n",
    "    print(f\"The file '{file_name}' exists.\")\n",
    "else:\n",
    "    print(f\"The file '{file_name}' does not exist.\")\n",
    "\n",
    "# TODO: Use os.path.splitext to split the file name and its extension, then print both.\n",
    "name, extension = os.path.splitext(file_name)\n",
    "print(f\"\\nFile name (without extension) : {name}\")\n",
    "print(f\"File extension : {extension}\")"
   ]
  },
  {
   "cell_type": "code",
   "execution_count": 1,
   "metadata": {},
   "outputs": [
    {
     "name": "stdout",
     "output_type": "stream",
     "text": [
      "File renamed from 'output.txt' to 'renamed_output.txt'.\n"
     ]
    }
   ],
   "source": [
    "\"\"\"\n",
    "Objective: Rename a file using the os module and handle any potential errors.\n",
    "\"\"\"\n",
    "import os\n",
    "\n",
    "old_filename = \"output.txt\"\n",
    "new_filename = \"renamed_output.txt\"\n",
    "\n",
    "try:\n",
    "    # Ensure the file exists before attempting to rename\n",
    "    if os.path.exists(old_filename):\n",
    "        os.rename(old_filename, new_filename)\n",
    "        print(f\"File renamed from '{old_filename}' to '{new_filename}'.\")\n",
    "    else:\n",
    "        print(f\"Error: The file '{old_filename}' does not exist.\")\n",
    "except Exception as e:\n",
    "    print(\"An error occurred while renaming the file:\", e)\n",
    "\n",
    "# TODO: Rename the file back to its original name.\n"
   ]
  },
  {
   "cell_type": "code",
   "execution_count": 2,
   "metadata": {},
   "outputs": [
    {
     "name": "stdout",
     "output_type": "stream",
     "text": [
      "Current Directory: c:\\Users\\SAGA10\\Documents\\RWID\\Python Scrapping\\Scrapping_tasks\\Scrapping\\03_python_fundamental\n",
      "Subdirectories: ['__pycache__']\n",
      "Files: ['01_variables_and_data_types.ipynb', '02_looping_and_control_structures.ipynb', '03_functions_and_modules.ipynb', '04_error_handling.ipynb', '05_file_handling.ipynb', '06_string_manipulation.ipynb', '07_list_vs_dictionary.ipynb', 'calculator_app.py', 'handling_sample.txt', 'handling_sample1.txt', 'mymodule.py', 'output1.txt', 'output2.txt', 'readme.md', 'renamed_output.txt', 'sample2.txt']\n",
      "----------------------------------------\n",
      "Current Directory: c:\\Users\\SAGA10\\Documents\\RWID\\Python Scrapping\\Scrapping_tasks\\Scrapping\\03_python_fundamental\\__pycache__\n",
      "Files: ['mymodule.cpython-313.pyc']\n",
      "----------------------------------------\n",
      "Total number of files found: 17\n"
     ]
    }
   ],
   "source": [
    "\"\"\"\n",
    "Objective: Use os.walk to recursively list all files and directories within a specified directory.\n",
    "\"\"\"\n",
    "import os\n",
    "\n",
    "directory_to_walk = os.getcwd()  # Use current directory for demonstration\n",
    "total_files = 0\n",
    "\n",
    "for root, dirs, files in os.walk(directory_to_walk):\n",
    "    print(\"Current Directory:\", root)\n",
    "    if dirs:\n",
    "        print(\"Subdirectories:\", dirs)\n",
    "    if files:\n",
    "        print(\"Files:\", files)\n",
    "        total_files += len(files)\n",
    "    print(\"-\" * 40)\n",
    "    \n",
    "print(\"Total number of files found:\", total_files)\n",
    "\n",
    "# TODO: Modify the code to count and print the total number of files found in the directory tree.\n"
   ]
  },
  {
   "cell_type": "markdown",
   "metadata": {},
   "source": [
    "### **Reflection**\n",
    "Reflect on how file handling and the os module allow you to interact with the underlying operating system. Consider these questions:\n",
    "\n",
    "- How does using the with-statement improve file handling compared to the traditional open/close methods?\n",
    "- What are the advantages of using the os module for directory and file path operations?\n",
    "- How can robust error handling in file and OS operations prevent common pitfalls in automation scripts?\n",
    "\n",
    "1. The with statement surpasses traditional resources management by techniques by simplifying code and automating resource cleanup. It eliminates the need for explicit resource closure, leading to cleaner and more readable code.\n",
    "\n",
    "2. The os module provides cross platform compatibility, allowing seamless directory and file path operations. It helps in :\n",
    "- Managing directories (os.mkdir(), os.rmdir())\n",
    "- Handling file paths (os.path.join(), os.path.abspath())\n",
    "- Checking files & directories (os.path.exists(), os.listdir())\n",
    "- Executing system commands (os.system())\n",
    "\n",
    "3. Robust error handling in file and OS operations can prevent common pitfalls in automation scripts by helping scripts recover from errors and avoid crashing."
   ]
  },
  {
   "cell_type": "markdown",
   "metadata": {},
   "source": [
    "### **Exploration**\n",
    "For further exploration, research Pathlib, a modern alternative to the os module for handling file system paths, and explore Advanced File I/O techniques such as asynchronous file operations and context manager customization."
   ]
  }
 ],
 "metadata": {
  "kernelspec": {
   "display_name": "Python 3",
   "language": "python",
   "name": "python3"
  },
  "language_info": {
   "codemirror_mode": {
    "name": "ipython",
    "version": 3
   },
   "file_extension": ".py",
   "mimetype": "text/x-python",
   "name": "python",
   "nbconvert_exporter": "python",
   "pygments_lexer": "ipython3",
   "version": "3.13.2"
  }
 },
 "nbformat": 4,
 "nbformat_minor": 2
}
