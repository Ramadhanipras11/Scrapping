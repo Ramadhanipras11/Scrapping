{
 "cells": [
  {
   "cell_type": "markdown",
   "metadata": {},
   "source": [
    "### **Looping and Control Structures**\n",
    "Looping and control structures are essential constructs in Python that enable you to execute blocks of code repeatedly and make decisions based on conditions. Using loops, you can iterate over sequences (like lists, tuples, or dictionaries) or execute code until a condition is met (using while loops). Control structures such as if, else, break, and continue allow you to direct the flow of your program, making it dynamic and responsive to different conditions. Mastering these fundamentals will help you write efficient, scalable, and readable code."
   ]
  },
  {
   "cell_type": "code",
   "execution_count": 2,
   "metadata": {},
   "outputs": [
    {
     "name": "stdout",
     "output_type": "stream",
     "text": [
      "Color: red\n",
      "Color: green\n",
      "Color: blue\n",
      "Color: yellow\n",
      "loop has finished\n"
     ]
    }
   ],
   "source": [
    "\"\"\"\n",
    "Objective: Iterate over a list of items using a for loop and print each item.\n",
    "\"\"\"\n",
    "# Create a list of colors\n",
    "colors = [\"red\", \"green\", \"blue\", \"yellow\"]\n",
    "\n",
    "# Loop over the list and print each color\n",
    "for color in colors:\n",
    "    print(\"Color:\", color)\n",
    "\n",
    "print(\"loop has finished\")\n",
    "# TODO: After the loop, print a message indicating the loop has finished."
   ]
  },
  {
   "cell_type": "code",
   "execution_count": 10,
   "metadata": {},
   "outputs": [
    {
     "name": "stdout",
     "output_type": "stream",
     "text": [
      "Number: 0\n",
      "Number: 1\n",
      "Number: 2\n",
      "Number: 3\n",
      "Number: 4\n",
      "Number: 5\n",
      "Number: 6\n",
      "Number: 7\n",
      "Number: 8\n",
      "Number: 9\n",
      "===============================================\n",
      "Number :  5\n",
      "Number :  6\n",
      "Number :  7\n",
      "Number :  8\n",
      "Number :  9\n",
      "Number :  10\n",
      "Number :  11\n",
      "Number :  12\n",
      "Number :  13\n",
      "Number :  14\n",
      "Number :  15\n",
      "=================================================\n",
      "Number : 20\n",
      "Number : 19\n",
      "Number : 18\n",
      "Number : 17\n",
      "Number : 16\n",
      "Number : 15\n",
      "Number : 14\n",
      "Number : 13\n",
      "Number : 12\n",
      "Number : 11\n"
     ]
    }
   ],
   "source": [
    "\"\"\"\n",
    "Objective: Use the range() function to iterate over a sequence of numbers and print each number.\n",
    "\"\"\"\n",
    "# Loop from 0 to 9 using range()\n",
    "for num in range(10):\n",
    "    print(\"Number:\", num)\n",
    "print(\"===============================================\")\n",
    "# TODO: Modify the loop to print numbers from 5 to 15.\n",
    "for num in range(5, 16):\n",
    "    print(\"Number : \", num)\n",
    "print(\"=================================================\")\n",
    "# TODO: Add new loops to print numbers in reverse order.\n",
    "for num in range (20, 10, -1):\n",
    "    print(\"Number :\", num)"
   ]
  },
  {
   "cell_type": "code",
   "execution_count": 14,
   "metadata": {},
   "outputs": [
    {
     "name": "stdout",
     "output_type": "stream",
     "text": [
      "Counter: 1\n",
      "Counter: 2\n",
      "Counter: 3\n",
      "Counter: 4\n",
      "Counter: 5\n",
      "===============================================\n",
      "Even number :  2\n",
      "Even number :  4\n",
      "Even number :  6\n",
      "Even number :  8\n",
      "Even number :  10\n",
      "===============================================\n",
      "0\n",
      "5\n",
      "10\n",
      "15\n",
      "20\n",
      "25\n",
      "30\n",
      "35\n",
      "40\n"
     ]
    }
   ],
   "source": [
    "\"\"\"\n",
    "Objective: Use a while loop to print numbers from 1 to 5.\n",
    "\"\"\"\n",
    "# Initialize a counter variable\n",
    "counter = 1\n",
    "\n",
    "# Loop until the counter exceeds 5\n",
    "while counter <= 5:\n",
    "    print(\"Counter:\", counter)\n",
    "    counter += 1  # Increment the counter\n",
    "print(\"===============================================\")\n",
    "# TODO: Write a while loop that prints even numbers from 2 to 10.\n",
    "even_number = 2\n",
    "while even_number <= 10:\n",
    "    print(\"Even number : \", even_number)\n",
    "    even_number += 2\n",
    "print(\"===============================================\")\n",
    "# TODO: Write a while loop using True condition and Break statement.\n",
    "x = 0\n",
    "while x < 50:\n",
    "    print(x)\n",
    "    x = x + 5\n",
    "    if x == 45:\n",
    "        break "
   ]
  },
  {
   "cell_type": "code",
   "execution_count": 21,
   "metadata": {},
   "outputs": [
    {
     "name": "stdout",
     "output_type": "stream",
     "text": [
      "1x1=1\t1x2=2\t1x3=3\t\n",
      "2x1=2\t2x2=4\t2x3=6\t\n",
      "3x1=3\t3x2=6\t3x3=9\t\n",
      "1 x 1 = 1\t1 x 2 = 2\t1 x 3 = 3\t1 x 4 = 4\t1 x 5 = 5\t\n",
      "2 x 1 = 2\t2 x 2 = 4\t2 x 3 = 6\t2 x 4 = 8\t2 x 5 = 10\t\n",
      "3 x 1 = 3\t3 x 2 = 6\t3 x 3 = 9\t3 x 4 = 12\t3 x 5 = 15\t\n",
      "4 x 1 = 4\t4 x 2 = 8\t4 x 3 = 12\t4 x 4 = 16\t4 x 5 = 20\t\n",
      "5 x 1 = 5\t5 x 2 = 10\t5 x 3 = 15\t5 x 4 = 20\t5 x 5 = 25\t\n"
     ]
    }
   ],
   "source": [
    "\"\"\"\n",
    "Objective: Demonstrate nested loops by printing a multiplication table for numbers 1 to 3.\n",
    "\"\"\"\n",
    "# Outer loop for rows\n",
    "for i in range(1, 4):\n",
    "    # Inner loop for columns\n",
    "    for j in range(1, 4):\n",
    "        print(f\"{i}x{j}={i*j}\", end=\"\\t\")\n",
    "    print()  # New line after each row\n",
    "\n",
    "# TODO: Modify the nested loop to generate a 5x5 multiplication table.\n",
    "for i in range(1, 6):\n",
    "    for j in range(1, 6):\n",
    "        print(f\"{i} x {j} = {i*j}\", end=\"\\t\")\n",
    "    print()\n"
   ]
  },
  {
   "cell_type": "code",
   "execution_count": 3,
   "metadata": {},
   "outputs": [
    {
     "name": "stdout",
     "output_type": "stream",
     "text": [
      "Number: 1\n",
      "Number: 2\n",
      "Number: 3\n",
      "Number: 4\n",
      "Skipping number 5\n",
      "Number: 6\n",
      "Number: 7\n",
      "Breaking loop at number 8\n",
      "########################\n",
      "Number :  20\n",
      "Number :  19\n",
      "Number :  18\n",
      "Number :  17\n",
      "Number :  16\n",
      "Number :  15\n",
      "Number :  14\n",
      "Number :  13\n",
      "Number :  12\n",
      "Number :  11\n",
      "Number :  10\n",
      "Number :  9\n",
      "Number :  8\n",
      "Number :  7\n",
      "Number :  6\n",
      "Number :  5\n",
      "Number :  4\n",
      "Number :  3\n",
      "Number :  2\n",
      "Number :  1\n",
      "Number :  0\n",
      "Break loop at negative number\n"
     ]
    }
   ],
   "source": [
    "\"\"\"\n",
    "Objective: Use break and continue in a loop to control the flow of execution.\n",
    "\"\"\"\n",
    "# Loop over numbers 1 to 10\n",
    "for num in range(1, 11):\n",
    "    if num == 5:\n",
    "        print(\"Skipping number 5\")\n",
    "        continue  # Skip the rest of the loop when num is 5\n",
    "    if num == 8:\n",
    "        print(\"Breaking loop at number 8\")\n",
    "        break    # Exit the loop when num is 8\n",
    "    print(\"Number:\", num)\n",
    "\n",
    "print(\"########################\")\n",
    "# TODO: Write a loop that iterates over a list of numbers and uses break to exit the loop when it encounters a negative number.\n",
    "for num in range(20, -10, -1):\n",
    "    if num == -1:\n",
    "        print(\"Break loop at negative number\")\n",
    "        break\n",
    "    print(\"Number : \", num)\n"
   ]
  },
  {
   "cell_type": "code",
   "execution_count": 6,
   "metadata": {},
   "outputs": [
    {
     "name": "stdout",
     "output_type": "stream",
     "text": [
      "0 is zero.\n",
      "1 is odd.\n",
      "2 is even.\n",
      "3 is odd.\n",
      "4 is even.\n",
      "5 is odd.\n",
      "Total even number :  2\n",
      "Total odd number :  3\n"
     ]
    }
   ],
   "source": [
    "\"\"\"\n",
    "Objective: Use if-elif-else statements inside a loop to categorize numbers as even, odd, or zero.\n",
    "\"\"\"\n",
    "numbers = [0, 1, 2, 3, 4, 5]\n",
    "\n",
    "even_count = 0\n",
    "odd_count = 0\n",
    "\n",
    "for num in numbers:\n",
    "    if num == 0:\n",
    "        print(f\"{num} is zero.\")\n",
    "    elif num % 2 == 0:\n",
    "        print(f\"{num} is even.\")\n",
    "        even_count += 1\n",
    "    else:\n",
    "        print(f\"{num} is odd.\")\n",
    "        odd_count += 1\n",
    "\n",
    "\n",
    "print(\"Total even number : \", even_count)\n",
    "print(\"Total odd number : \", odd_count)\n",
    "# TODO: Extend the loop to count and print the total number of even and odd numbers.\n"
   ]
  },
  {
   "cell_type": "code",
   "execution_count": 13,
   "metadata": {},
   "outputs": [
    {
     "name": "stdout",
     "output_type": "stream",
     "text": [
      "name: Alice\n",
      "age: 21\n",
      "major: Physics\n",
      "===========================\n",
      "name\n",
      "age\n",
      "major\n"
     ]
    }
   ],
   "source": [
    "\"\"\"\n",
    "Objective: Iterate over a dictionary to print its keys and corresponding values.\n",
    "\"\"\"\n",
    "# Create a dictionary of student information\n",
    "student = {\"name\": \"Alice\", \"age\": 21, \"major\": \"Physics\"}\n",
    "\n",
    "# Loop over the dictionary items\n",
    "for key, value in student.items():\n",
    "    print(f\"{key}: {value}\")\n",
    "    \n",
    "print(\"===========================\")\n",
    "# TODO: Write code to print only the keys of the dictionary.\n",
    "student = {\"name\": \"Alice\", \"age\": 21, \"major\": \"Physics\"}\n",
    "for key, value in student.items():\n",
    "    print(f\"{key}\")\n"
   ]
  },
  {
   "cell_type": "code",
   "execution_count": 24,
   "metadata": {},
   "outputs": [
    {
     "name": "stdout",
     "output_type": "stream",
     "text": [
      "['apple', 'banana', 'cherry', 'melon', 'watermelon', 'strawberry', 'pineapple', 'grape']\n",
      "Banana found!\n",
      "grape found!\n"
     ]
    }
   ],
   "source": [
    "\"\"\"\n",
    "Objective: Demonstrate the use of the for/else construct by searching for an element in a list.\n",
    "\"\"\"\n",
    "fruits = [\"apple\", \"banana\", \"cherry\"]\n",
    "new_fruits = [\"melon\", \"watermelon\", \"strawberry\", \"pineapple\", \"grape\"]\n",
    "fruits.extend(new_fruits)\n",
    "print(fruits)\n",
    "\n",
    "# Search for a fruit in the list\n",
    "for fruit in fruits:\n",
    "    if fruit == \"banana\":\n",
    "        print(\"Banana found!\")\n",
    "        continue\n",
    "    elif fruit == \"grape\":\n",
    "        print(\"grape found!\")\n",
    "        break\n",
    "else:\n",
    "    print(\"Banana and grape not found!\")\n",
    "\n",
    "# TODO: Modify the loop to search for \"grape\" and print an appropriate message using the else clause.\n",
    "\n"
   ]
  },
  {
   "cell_type": "code",
   "execution_count": 30,
   "metadata": {},
   "outputs": [
    {
     "name": "stdout",
     "output_type": "stream",
     "text": [
      "Squares: [1, 4, 9, 16, 25, 36, 49, 64, 81, 100]\n",
      "Even number is :  [2, 4, 6, 8, 10, 12, 14, 16, 18]\n"
     ]
    }
   ],
   "source": [
    "\"\"\"\n",
    "Objective: Use a list comprehension to generate a list of squares for numbers 1 to 10.\n",
    "\"\"\"\n",
    "# Generate the list of squares using list comprehension\n",
    "squares = [x ** 2 for x in range(1, 11)]\n",
    "print(\"Squares:\", squares)\n",
    "\n",
    "# TODO: Create a list comprehension that filters out even numbers from a list of numbers 1 to 20.\n",
    "even_number = [x for x in range(1, 20) if x % 2 == 0]\n",
    "print(\"Even number is : \", even_number)\n"
   ]
  },
  {
   "cell_type": "code",
   "execution_count": null,
   "metadata": {},
   "outputs": [
    {
     "name": "stdout",
     "output_type": "stream",
     "text": [
      "\n",
      "Menu:\n",
      "1. Say Hello\n",
      "2. Show Current Time\n",
      "3. Input Number\n",
      "4. Exit\n",
      "Hello there!\n",
      "\n",
      "Menu:\n",
      "1. Say Hello\n",
      "2. Show Current Time\n",
      "3. Input Number\n",
      "4. Exit\n"
     ]
    }
   ],
   "source": [
    "\"\"\"\n",
    "Objective: Create a simple menu-driven program that repeatedly asks the user for an option and performs an action until the user chooses to exit.\n",
    "\"\"\"\n",
    "while True:\n",
    "    print(\"\\nMenu:\")\n",
    "    print(\"1. Say Hello\")\n",
    "    print(\"2. Show Current Time\")\n",
    "    print(\"3. Input Number\")\n",
    "    print(\"4. Exit\")\n",
    "    \n",
    "    # Get user input\n",
    "    choice = input(\"Enter your choice (1-4): \")\n",
    "    \n",
    "    # Check the user's choice\n",
    "    if choice == \"1\":\n",
    "        print(\"Hello there!\")\n",
    "    elif choice == \"2\":\n",
    "        import datetime\n",
    "        print(\"Current Time:\", datetime.datetime.now())\n",
    "    elif choice == \"3\":\n",
    "        number = int(input(\"Enter a number :\"))\n",
    "        if number % 2 == 0:\n",
    "            print(f\"{number} is even\")\n",
    "        else:\n",
    "            print(f\"{number} is odd\")\n",
    "    elif choice == \"4\":\n",
    "        print(\"Exiting program. Goodbye!\")\n",
    "        break  # Exit the loop\n",
    "    else:\n",
    "        print(\"Invalid choice, please try again.\")\n",
    "\n",
    "# TODO: Extend the menu to include an option that asks the user for a number and prints whether it's even or odd.\n"
   ]
  },
  {
   "cell_type": "markdown",
   "metadata": {},
   "source": [
    "### **Reflection**\n",
    "Consider how loops and control structures allow you to manage repetitive tasks and control the flow of your program. Reflect on the following questions:\n",
    "- How do different loop constructs (for vs. while) impact the way you solve a problem?\n",
    "- In what scenarios would you prefer using break or continue?\n",
    "- How do nested loops and conditional statements together help in processing multi-dimensional data?\n",
    "\n",
    "1. - Use for loop when the number of iterations is known(e.g., iterating over a list, range)\n",
    "- Use while loop when iterations depend on a condition (e.g., waiting for user input)\n",
    "- for is safer (no infinite loops), while can be riskier if condition is not updated.\n",
    "\n",
    "2. break :\n",
    "- Use when you want to exit the loop early.\n",
    "- Best for searching and stopping once a condition is met.\n",
    "\n",
    "continue :\n",
    "- Use when you want to skip certain conditions but keep looping.\n",
    "- Best for filtering out unwanted values.\n",
    "\n",
    "3. Handling Multi-Dimensional Structures\n",
    "- Nested loops are essential for iterating through list of list, matrices, or tables.\n",
    "- Conditional statements help filter, modify, or analyze specific elements within the data.\n",
    "\n",
    "Searching & Filtering in Nested Data\n",
    "- Nested loops help access each element\n",
    "- Conditionals help find elements that meet a certain criterion\n",
    "\n"
   ]
  },
  {
   "cell_type": "markdown",
   "metadata": {},
   "source": [
    "### **Exploration**\n",
    "For further exploration, research Generators and Iterators. Investigate how Python's advanced looping constructs, such as generator functions and iterator protocols, can help you handle large data streams efficiently while keeping your code clean and performant."
   ]
  },
  {
   "cell_type": "markdown",
   "metadata": {},
   "source": []
  }
 ],
 "metadata": {
  "kernelspec": {
   "display_name": "Python 3",
   "language": "python",
   "name": "python3"
  },
  "language_info": {
   "codemirror_mode": {
    "name": "ipython",
    "version": 3
   },
   "file_extension": ".py",
   "mimetype": "text/x-python",
   "name": "python",
   "nbconvert_exporter": "python",
   "pygments_lexer": "ipython3",
   "version": "3.13.2"
  }
 },
 "nbformat": 4,
 "nbformat_minor": 2
}
